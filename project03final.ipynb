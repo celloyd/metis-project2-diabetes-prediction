{
 "cells": [
  {
   "cell_type": "markdown",
   "metadata": {},
   "source": [
    "# Introduction\n",
    "Lab notebooks are, in order:\n",
    "1. exploration.ipynb: EDA\n",
    "2. pima-model-lab-notebook.ipynb: initial model building on Pima Indians Diabetes dataset\n",
    "3. pima-fram-lab-notebook.ipynb: attempting to improve model by adding Framingham Heart Study data\n",
    "\n",
    "The big problem was that that two datasets were different not just in diabetes prevalance but also in shape of other features, resulting in a model which was performing as well as others in the scores but not making sense from a biology perspective. Age should not be negatively correlated with type II diabetes risk unless you're looking only at women who have had children and so much of what you're seeing is gestational diabetes, which will likely be a nonlinear relationship with a hump of diabetes in the 20-40 range.\n",
    "\n",
    "This notebook is a streamlined version of building a set of models for the streamlit app.\n",
    "\n",
    "# Methods\n",
    "## Data import"
   ]
  },
  {
   "cell_type": "code",
   "execution_count": 1,
   "metadata": {},
   "outputs": [],
   "source": [
    "import pandas as pd\n",
    "import pandas.io.sql as sqlio\n",
    "import matplotlib as plt\n",
    "import seaborn as sbn\n",
    "import numpy as np\n",
    "import psycopg2 as pg\n",
    "\n",
    "from sklearn.linear_model import LogisticRegressionCV\n",
    "from sklearn.model_selection import train_test_split, StratifiedKFold, RandomizedSearchCV\n",
    "from sklearn.metrics import accuracy_score, balanced_accuracy_score, recall_score\n"
   ]
  },
  {
   "cell_type": "code",
   "execution_count": 2,
   "metadata": {},
   "outputs": [],
   "source": [
    "connection_args = {'host': 'localhost', \n",
    "                   'dbname': 'med_data', \n",
    "                   'port': 5432}\n",
    "connection = pg.connect(**connection_args)\n",
    "\n",
    "query = \"\"\"SELECT * FROM pima\"\"\"\n",
    "with open('tempfile.csv', 'wb') as tmpfile:\n",
    "    copy_sql = \"COPY ({query}) TO STDOUT WITH CSV {head}\".format(\n",
    "       query=query, head=\"HEADER\"\n",
    "    )\n",
    "    cursor = connection.cursor()\n",
    "    cursor.copy_expert(copy_sql, tmpfile)\n",
    "    tmpfile.seek(0)\n",
    "\n",
    "    pima_data = pd.read_csv('tempfile.csv')"
   ]
  },
  {
   "cell_type": "code",
   "execution_count": 3,
   "metadata": {},
   "outputs": [],
   "source": [
    "outcome_series = pima_data['outcome'] == 't'\n",
    "diabetes_series = pima_data['diabetes'] == 't'\n",
    "pima_data['outcome'] = outcome_series\n",
    "pima_data['diabetes'] = diabetes_series"
   ]
  },
  {
   "cell_type": "code",
   "execution_count": 5,
   "metadata": {},
   "outputs": [],
   "source": [
    "pima_data[['glucose', 'diabp', 'skinthickness', 'insulin']] = pima_data[['glucose', 'diabp', 'skinthickness', 'insulin']].replace(0, np.nan)"
   ]
  },
  {
   "cell_type": "markdown",
   "metadata": {},
   "source": [
    "## Using subset of pima data to get best model parameters\n",
    "For the sake of consistency and minimizing user confusion, I want to use the same train-test split for all four data sets. I'm doing this before the dropna() so that I can preserve as much data as possible, but the hope is that this will result in four models where the feature set really is the biggest difference between them."
   ]
  },
  {
   "cell_type": "code",
   "execution_count": 19,
   "metadata": {},
   "outputs": [],
   "source": [
    "# Split consistently on all the sets\n",
    "from sklearn.model_selection import ShuffleSplit\n",
    "shuffle = ShuffleSplit(n_splits = 1, random_state = 54, test_size = 0.2)\n",
    "train_indices = []\n",
    "test_indices = []\n",
    "for train_index, test_index in shuffle.split(pima_data):\n",
    "    train_indices = list(train_index)\n",
    "    test_indices= list(test_index)"
   ]
  },
  {
   "cell_type": "code",
   "execution_count": 21,
   "metadata": {},
   "outputs": [
    {
     "data": {
      "text/html": [
       "<div>\n",
       "<style scoped>\n",
       "    .dataframe tbody tr th:only-of-type {\n",
       "        vertical-align: middle;\n",
       "    }\n",
       "\n",
       "    .dataframe tbody tr th {\n",
       "        vertical-align: top;\n",
       "    }\n",
       "\n",
       "    .dataframe thead th {\n",
       "        text-align: right;\n",
       "    }\n",
       "</style>\n",
       "<table border=\"1\" class=\"dataframe\">\n",
       "  <thead>\n",
       "    <tr style=\"text-align: right;\">\n",
       "      <th></th>\n",
       "      <th>age</th>\n",
       "      <th>bmi</th>\n",
       "      <th>diabp</th>\n",
       "      <th>pregnancies</th>\n",
       "      <th>diabetes</th>\n",
       "    </tr>\n",
       "  </thead>\n",
       "  <tbody>\n",
       "    <tr>\n",
       "      <th>18</th>\n",
       "      <td>33</td>\n",
       "      <td>43.3</td>\n",
       "      <td>30.0</td>\n",
       "      <td>1</td>\n",
       "      <td>False</td>\n",
       "    </tr>\n",
       "    <tr>\n",
       "      <th>467</th>\n",
       "      <td>25</td>\n",
       "      <td>36.8</td>\n",
       "      <td>64.0</td>\n",
       "      <td>0</td>\n",
       "      <td>False</td>\n",
       "    </tr>\n",
       "    <tr>\n",
       "      <th>87</th>\n",
       "      <td>26</td>\n",
       "      <td>38.5</td>\n",
       "      <td>68.0</td>\n",
       "      <td>2</td>\n",
       "      <td>False</td>\n",
       "    </tr>\n",
       "    <tr>\n",
       "      <th>659</th>\n",
       "      <td>27</td>\n",
       "      <td>34.2</td>\n",
       "      <td>82.0</td>\n",
       "      <td>3</td>\n",
       "      <td>True</td>\n",
       "    </tr>\n",
       "    <tr>\n",
       "      <th>208</th>\n",
       "      <td>21</td>\n",
       "      <td>33.2</td>\n",
       "      <td>64.0</td>\n",
       "      <td>1</td>\n",
       "      <td>False</td>\n",
       "    </tr>\n",
       "    <tr>\n",
       "      <th>...</th>\n",
       "      <td>...</td>\n",
       "      <td>...</td>\n",
       "      <td>...</td>\n",
       "      <td>...</td>\n",
       "      <td>...</td>\n",
       "    </tr>\n",
       "    <tr>\n",
       "      <th>230</th>\n",
       "      <td>22</td>\n",
       "      <td>44.0</td>\n",
       "      <td>86.0</td>\n",
       "      <td>4</td>\n",
       "      <td>True</td>\n",
       "    </tr>\n",
       "    <tr>\n",
       "      <th>318</th>\n",
       "      <td>28</td>\n",
       "      <td>38.1</td>\n",
       "      <td>66.0</td>\n",
       "      <td>3</td>\n",
       "      <td>False</td>\n",
       "    </tr>\n",
       "    <tr>\n",
       "      <th>551</th>\n",
       "      <td>25</td>\n",
       "      <td>31.9</td>\n",
       "      <td>68.0</td>\n",
       "      <td>3</td>\n",
       "      <td>False</td>\n",
       "    </tr>\n",
       "    <tr>\n",
       "      <th>756</th>\n",
       "      <td>39</td>\n",
       "      <td>32.0</td>\n",
       "      <td>90.0</td>\n",
       "      <td>7</td>\n",
       "      <td>False</td>\n",
       "    </tr>\n",
       "    <tr>\n",
       "      <th>6</th>\n",
       "      <td>26</td>\n",
       "      <td>31.0</td>\n",
       "      <td>50.0</td>\n",
       "      <td>3</td>\n",
       "      <td>True</td>\n",
       "    </tr>\n",
       "  </tbody>\n",
       "</table>\n",
       "<p>147 rows × 5 columns</p>\n",
       "</div>"
      ],
      "text/plain": [
       "     age   bmi  diabp  pregnancies  diabetes\n",
       "18    33  43.3   30.0            1     False\n",
       "467   25  36.8   64.0            0     False\n",
       "87    26  38.5   68.0            2     False\n",
       "659   27  34.2   82.0            3      True\n",
       "208   21  33.2   64.0            1     False\n",
       "..   ...   ...    ...          ...       ...\n",
       "230   22  44.0   86.0            4      True\n",
       "318   28  38.1   66.0            3     False\n",
       "551   25  31.9   68.0            3     False\n",
       "756   39  32.0   90.0            7     False\n",
       "6     26  31.0   50.0            3      True\n",
       "\n",
       "[147 rows x 5 columns]"
      ]
     },
     "execution_count": 21,
     "metadata": {},
     "output_type": "execute_result"
    }
   ],
   "source": [
    "train_ab = pima_data.loc[train_indices, ['age', 'bmi', 'diabetes']]\n",
    "train_ab.dropna()\n",
    "test_ab = pima_data.loc[test_indices, ['age', 'bmi', 'diabetes']]\n",
    "test_ab.dropna()\n",
    "\n",
    "train_abd = pima_data.loc[train_indices, ['age', 'bmi', 'diabp', 'diabetes']]\n",
    "train_abd.dropna()\n",
    "test_abd = pima_data.loc[test_indices, ['age', 'bmi', 'diabp', 'diabetes']]\n",
    "test_abd.dropna()\n",
    "\n",
    "train_abp = pima_data.loc[train_indices, ['age', 'bmi', 'pregnancies', 'diabetes']]\n",
    "train_abp.dropna()\n",
    "test_abp = pima_data.loc[test_indices, ['age', 'bmi', 'pregnancies', 'diabetes']]\n",
    "test_abp.dropna()\n",
    "\n",
    "train_abdp = pima_data.loc[train_indices, ['age', 'bmi', 'diabp', 'pregnancies', 'diabetes']]\n",
    "train_abdp.dropna()\n",
    "test_abdp = pima_data.loc[test_indices, ['age', 'bmi', 'diabp', 'pregnancies', 'diabetes']]\n",
    "test_abdp.dropna()"
   ]
  },
  {
   "cell_type": "code",
   "execution_count": 56,
   "metadata": {},
   "outputs": [
    {
     "data": {
      "text/plain": [
       "GridSearchCV(cv=4, error_score='raise-deprecating',\n",
       "       estimator=LogisticRegression(C=1.0, class_weight=None, dual=False, fit_intercept=True,\n",
       "          intercept_scaling=1, max_iter=100, multi_class='warn',\n",
       "          n_jobs=None, penalty='l2', random_state=None, solver='warn',\n",
       "          tol=0.0001, verbose=0, warm_start=False),\n",
       "       fit_params=None, iid='warn', n_jobs=None,\n",
       "       param_grid={'class_weight': ['balanced', None], 'solver': ['liblinear', 'lbfgs', 'newton-cg']},\n",
       "       pre_dispatch='2*n_jobs', refit=True, return_train_score=True,\n",
       "       scoring='balanced_accuracy', verbose=0)"
      ]
     },
     "execution_count": 56,
     "metadata": {},
     "output_type": "execute_result"
    }
   ],
   "source": [
    "from sklearn.model_selection import GridSearchCV\n",
    "from sklearn.linear_model import LogisticRegression\n"
   ]
  },
  {
   "cell_type": "code",
   "execution_count": 85,
   "metadata": {},
   "outputs": [
    {
     "data": {
      "text/plain": [
       "{'C': 1, 'class_weight': 'balanced', 'solver': 'liblinear'}"
      ]
     },
     "execution_count": 85,
     "metadata": {},
     "output_type": "execute_result"
    }
   ],
   "source": [
    "param_grid = {'C': [0.1, 1, 10, 100], \n",
    "              'class_weight': ['balanced', None], \n",
    "             'solver': ['lbfgs', 'liblinear', 'newton-cg']}\n",
    "gscv = GridSearchCV(estimator = LogisticRegression(), param_grid = param_grid, scoring = 'balanced_accuracy', cv = 4, return_train_score = True)\n",
    "gscv.fit(train_ab[['age', 'bmi']], train_ab['diabetes'])\n",
    "gscv.best_params_"
   ]
  },
  {
   "cell_type": "code",
   "execution_count": 77,
   "metadata": {},
   "outputs": [
    {
     "data": {
      "text/plain": [
       "array([[0.04670707, 0.06963381]])"
      ]
     },
     "execution_count": 77,
     "metadata": {},
     "output_type": "execute_result"
    }
   ],
   "source": [
    "gscv.best_estimator_.coef_"
   ]
  },
  {
   "cell_type": "code",
   "execution_count": 78,
   "metadata": {},
   "outputs": [
    {
     "data": {
      "text/plain": [
       "{'C': 1, 'class_weight': 'balanced', 'solver': 'liblinear'}"
      ]
     },
     "execution_count": 78,
     "metadata": {},
     "output_type": "execute_result"
    }
   ],
   "source": [
    "gscv.fit(train_abd[['age', 'bmi', 'diabp']], train_abd['diabetes'])\n",
    "gscv.best_params_"
   ]
  },
  {
   "cell_type": "code",
   "execution_count": 79,
   "metadata": {},
   "outputs": [
    {
     "data": {
      "text/plain": [
       "array([[ 0.04932413,  0.06940796, -0.00104953]])"
      ]
     },
     "execution_count": 79,
     "metadata": {},
     "output_type": "execute_result"
    }
   ],
   "source": [
    "gscv.best_estimator_.coef_"
   ]
  },
  {
   "cell_type": "code",
   "execution_count": 80,
   "metadata": {},
   "outputs": [
    {
     "data": {
      "text/plain": [
       "{'C': 0.1, 'class_weight': 'balanced', 'solver': 'lbfgs'}"
      ]
     },
     "execution_count": 80,
     "metadata": {},
     "output_type": "execute_result"
    }
   ],
   "source": [
    "gscv.fit(train_abp[['age', 'bmi', 'pregnancies']], train_abp['diabetes'])\n",
    "gscv.best_params_"
   ]
  },
  {
   "cell_type": "code",
   "execution_count": 73,
   "metadata": {},
   "outputs": [
    {
     "data": {
      "text/plain": [
       "array([[0.04361281, 0.09051201, 0.07484378]])"
      ]
     },
     "execution_count": 73,
     "metadata": {},
     "output_type": "execute_result"
    }
   ],
   "source": [
    "gscv.best_estimator_.coef_"
   ]
  },
  {
   "cell_type": "code",
   "execution_count": 81,
   "metadata": {},
   "outputs": [
    {
     "data": {
      "text/plain": [
       "{'C': 10, 'class_weight': 'balanced', 'solver': 'liblinear'}"
      ]
     },
     "execution_count": 81,
     "metadata": {},
     "output_type": "execute_result"
    }
   ],
   "source": [
    "gscv.fit(train_abdp[['age', 'bmi', 'diabp', 'pregnancies']], train_abdp['diabetes'])\n",
    "gscv.best_params_"
   ]
  },
  {
   "cell_type": "code",
   "execution_count": 83,
   "metadata": {},
   "outputs": [
    {
     "data": {
      "text/plain": [
       "array([[0.04202822, 0.08520294, 0.00875516, 0.07410018]])"
      ]
     },
     "execution_count": 83,
     "metadata": {},
     "output_type": "execute_result"
    }
   ],
   "source": [
    "gscv.best_estimator_.coef_"
   ]
  },
  {
   "cell_type": "markdown",
   "metadata": {},
   "source": [
    "### On balance, let's go with 1.0, 'balanced', and 'liblinear'\n",
    "Given how few features there are, less regularization is likely to be necessary.\n",
    "\n",
    "'class_weight' is the parameter to tune in order to get the balance I want between false negatives and false positives. Given the relative costs of diabetes screening and a year of diabetes care, I'm aiming for around 1 false negative for every 50-100 false positives. If I were truly pitching this to an insurance company, I would want to take the time to make a slider or a dropdown that allows the client to select the desired number of false positives per false negative within an approximately 25-200 range; outside of either extreme seems intuitively unfair to either the people who miss being diagnosed or the people who get stuck with an unnecessary blood test.\n",
    "\n",
    "Liblinear takes either l1 or l2 penalties, and while I could figure out which penalty works best, I'm choosing not to. This decision is due in large part to the fact that I don't care to do all the setup necessary for creating my own grid search function that fits a scaler to each training fold. Also, the default penalty of 'l2' is the one that I tend to lean towards for smaller feature sets in any case, as it spreads the coefficients around rather than pushing small ones towards zero. This model isn't going to have the greatest scores in any case, and the benefit of deciding between the two regularization penalties is unlikely to be significant to anything for a prototype project.\n",
    "\n",
    "### Finding best class_weight to balance false negatives and false positives"
   ]
  },
  {
   "cell_type": "code",
   "execution_count": 99,
   "metadata": {},
   "outputs": [
    {
     "name": "stderr",
     "output_type": "stream",
     "text": [
      "/Users/chesh1/anaconda3/lib/python3.7/site-packages/sklearn/model_selection/_split.py:2053: FutureWarning: You should specify a value for 'cv' instead of relying on the default value. The default value will change from 3 to 5 in version 0.22.\n",
      "  warnings.warn(CV_WARNING, FutureWarning)\n",
      "/Users/chesh1/anaconda3/lib/python3.7/site-packages/sklearn/model_selection/_split.py:2053: FutureWarning: You should specify a value for 'cv' instead of relying on the default value. The default value will change from 3 to 5 in version 0.22.\n",
      "  warnings.warn(CV_WARNING, FutureWarning)\n",
      "/Users/chesh1/anaconda3/lib/python3.7/site-packages/sklearn/model_selection/_split.py:2053: FutureWarning: You should specify a value for 'cv' instead of relying on the default value. The default value will change from 3 to 5 in version 0.22.\n",
      "  warnings.warn(CV_WARNING, FutureWarning)\n",
      "/Users/chesh1/anaconda3/lib/python3.7/site-packages/sklearn/model_selection/_split.py:2053: FutureWarning: You should specify a value for 'cv' instead of relying on the default value. The default value will change from 3 to 5 in version 0.22.\n",
      "  warnings.warn(CV_WARNING, FutureWarning)\n",
      "/Users/chesh1/anaconda3/lib/python3.7/site-packages/sklearn/model_selection/_split.py:2053: FutureWarning: You should specify a value for 'cv' instead of relying on the default value. The default value will change from 3 to 5 in version 0.22.\n",
      "  warnings.warn(CV_WARNING, FutureWarning)\n",
      "/Users/chesh1/anaconda3/lib/python3.7/site-packages/sklearn/model_selection/_split.py:2053: FutureWarning: You should specify a value for 'cv' instead of relying on the default value. The default value will change from 3 to 5 in version 0.22.\n",
      "  warnings.warn(CV_WARNING, FutureWarning)\n",
      "/Users/chesh1/anaconda3/lib/python3.7/site-packages/sklearn/model_selection/_split.py:2053: FutureWarning: You should specify a value for 'cv' instead of relying on the default value. The default value will change from 3 to 5 in version 0.22.\n",
      "  warnings.warn(CV_WARNING, FutureWarning)\n",
      "/Users/chesh1/anaconda3/lib/python3.7/site-packages/sklearn/model_selection/_split.py:2053: FutureWarning: You should specify a value for 'cv' instead of relying on the default value. The default value will change from 3 to 5 in version 0.22.\n",
      "  warnings.warn(CV_WARNING, FutureWarning)\n"
     ]
    }
   ],
   "source": [
    "from sklearn.metrics import confusion_matrix\n",
    "\n",
    "weights_list = [{True: 8, False: 1}, {True: 8.5, False: 1}, {True: 9, False: 1}, \n",
    "               {True: 9.5, False: 1}, {True: 10, False: 1}, \n",
    "               {True: 10.5, False: 1}, {True: 11, False: 1}, {True: 11.5, False: 1}]\n",
    "# Putting together a list of dicts that I can then put into a dataframe\n",
    "weights_results = []\n",
    "# iterate through the class_weight options\n",
    "for i in weights_list:\n",
    "    lr = LogisticRegressionCV(penalty = 'l2', scoring = 'recall', solver = 'liblinear', \n",
    "                              class_weight = i)\n",
    "    lr.fit(train_ab[['age', 'bmi']], train_ab['diabetes'])\n",
    "    # Essentially using this to get the scores and confusion matrix for the cross-validated model\n",
    "    lr_pred = lr.predict(train_ab[['age', 'bmi']])\n",
    "    lr_conf = confusion_matrix(train_ab['diabetes'], lr_pred)\n",
    "    weights_results.append({'weight': i[True], \n",
    "                           'coefficients': lr.coef_, \n",
    "                           'recall': recall_score(train_ab['diabetes'], lr_pred), \n",
    "                           'false negatives': lr_conf[1][0], \n",
    "                           'false positives': lr_conf[0][1]})\n",
    "results_df = pd.DataFrame(weights_results)"
   ]
  },
  {
   "cell_type": "code",
   "execution_count": 100,
   "metadata": {},
   "outputs": [
    {
     "data": {
      "text/html": [
       "<div>\n",
       "<style scoped>\n",
       "    .dataframe tbody tr th:only-of-type {\n",
       "        vertical-align: middle;\n",
       "    }\n",
       "\n",
       "    .dataframe tbody tr th {\n",
       "        vertical-align: top;\n",
       "    }\n",
       "\n",
       "    .dataframe thead th {\n",
       "        text-align: right;\n",
       "    }\n",
       "</style>\n",
       "<table border=\"1\" class=\"dataframe\">\n",
       "  <thead>\n",
       "    <tr style=\"text-align: right;\">\n",
       "      <th></th>\n",
       "      <th>weight</th>\n",
       "      <th>coefficients</th>\n",
       "      <th>recall</th>\n",
       "      <th>false negatives</th>\n",
       "      <th>false positives</th>\n",
       "    </tr>\n",
       "  </thead>\n",
       "  <tbody>\n",
       "    <tr>\n",
       "      <th>0</th>\n",
       "      <td>8.0</td>\n",
       "      <td>[[0.029297746471932642, 0.027076031692056225]]</td>\n",
       "      <td>1.0</td>\n",
       "      <td>0</td>\n",
       "      <td>342</td>\n",
       "    </tr>\n",
       "    <tr>\n",
       "      <th>1</th>\n",
       "      <td>8.5</td>\n",
       "      <td>[[0.029968144348868304, 0.02811564209481826]]</td>\n",
       "      <td>1.0</td>\n",
       "      <td>0</td>\n",
       "      <td>342</td>\n",
       "    </tr>\n",
       "    <tr>\n",
       "      <th>2</th>\n",
       "      <td>9.0</td>\n",
       "      <td>[[0.030648923563846842, 0.029047801998230083]]</td>\n",
       "      <td>1.0</td>\n",
       "      <td>0</td>\n",
       "      <td>342</td>\n",
       "    </tr>\n",
       "    <tr>\n",
       "      <th>3</th>\n",
       "      <td>9.5</td>\n",
       "      <td>[[0.03127237811548386, 0.02995292763066094]]</td>\n",
       "      <td>1.0</td>\n",
       "      <td>0</td>\n",
       "      <td>342</td>\n",
       "    </tr>\n",
       "    <tr>\n",
       "      <th>4</th>\n",
       "      <td>10.0</td>\n",
       "      <td>[[0.03186592911579925, 0.030811455619459707]]</td>\n",
       "      <td>1.0</td>\n",
       "      <td>0</td>\n",
       "      <td>342</td>\n",
       "    </tr>\n",
       "    <tr>\n",
       "      <th>5</th>\n",
       "      <td>10.5</td>\n",
       "      <td>[[0.032432539447684684, 0.03162782205952117]]</td>\n",
       "      <td>1.0</td>\n",
       "      <td>0</td>\n",
       "      <td>342</td>\n",
       "    </tr>\n",
       "    <tr>\n",
       "      <th>6</th>\n",
       "      <td>11.0</td>\n",
       "      <td>[[0.03297475214946724, 0.032405845468103454]]</td>\n",
       "      <td>1.0</td>\n",
       "      <td>0</td>\n",
       "      <td>342</td>\n",
       "    </tr>\n",
       "    <tr>\n",
       "      <th>7</th>\n",
       "      <td>11.5</td>\n",
       "      <td>[[0.03349476513811141, 0.03314883694270513]]</td>\n",
       "      <td>1.0</td>\n",
       "      <td>0</td>\n",
       "      <td>342</td>\n",
       "    </tr>\n",
       "  </tbody>\n",
       "</table>\n",
       "</div>"
      ],
      "text/plain": [
       "   weight                                    coefficients  recall  \\\n",
       "0     8.0  [[0.029297746471932642, 0.027076031692056225]]     1.0   \n",
       "1     8.5   [[0.029968144348868304, 0.02811564209481826]]     1.0   \n",
       "2     9.0  [[0.030648923563846842, 0.029047801998230083]]     1.0   \n",
       "3     9.5    [[0.03127237811548386, 0.02995292763066094]]     1.0   \n",
       "4    10.0   [[0.03186592911579925, 0.030811455619459707]]     1.0   \n",
       "5    10.5   [[0.032432539447684684, 0.03162782205952117]]     1.0   \n",
       "6    11.0   [[0.03297475214946724, 0.032405845468103454]]     1.0   \n",
       "7    11.5    [[0.03349476513811141, 0.03314883694270513]]     1.0   \n",
       "\n",
       "   false negatives  false positives  \n",
       "0                0              342  \n",
       "1                0              342  \n",
       "2                0              342  \n",
       "3                0              342  \n",
       "4                0              342  \n",
       "5                0              342  \n",
       "6                0              342  \n",
       "7                0              342  "
      ]
     },
     "execution_count": 100,
     "metadata": {},
     "output_type": "execute_result"
    }
   ],
   "source": [
    "results_df"
   ]
  },
  {
   "cell_type": "code",
   "execution_count": 110,
   "metadata": {},
   "outputs": [
    {
     "name": "stderr",
     "output_type": "stream",
     "text": [
      "/Users/chesh1/anaconda3/lib/python3.7/site-packages/sklearn/model_selection/_split.py:2053: FutureWarning: You should specify a value for 'cv' instead of relying on the default value. The default value will change from 3 to 5 in version 0.22.\n",
      "  warnings.warn(CV_WARNING, FutureWarning)\n",
      "/Users/chesh1/anaconda3/lib/python3.7/site-packages/sklearn/model_selection/_split.py:2053: FutureWarning: You should specify a value for 'cv' instead of relying on the default value. The default value will change from 3 to 5 in version 0.22.\n",
      "  warnings.warn(CV_WARNING, FutureWarning)\n",
      "/Users/chesh1/anaconda3/lib/python3.7/site-packages/sklearn/model_selection/_split.py:2053: FutureWarning: You should specify a value for 'cv' instead of relying on the default value. The default value will change from 3 to 5 in version 0.22.\n",
      "  warnings.warn(CV_WARNING, FutureWarning)\n",
      "/Users/chesh1/anaconda3/lib/python3.7/site-packages/sklearn/model_selection/_split.py:2053: FutureWarning: You should specify a value for 'cv' instead of relying on the default value. The default value will change from 3 to 5 in version 0.22.\n",
      "  warnings.warn(CV_WARNING, FutureWarning)\n",
      "/Users/chesh1/anaconda3/lib/python3.7/site-packages/sklearn/model_selection/_split.py:2053: FutureWarning: You should specify a value for 'cv' instead of relying on the default value. The default value will change from 3 to 5 in version 0.22.\n",
      "  warnings.warn(CV_WARNING, FutureWarning)\n",
      "/Users/chesh1/anaconda3/lib/python3.7/site-packages/sklearn/model_selection/_split.py:2053: FutureWarning: You should specify a value for 'cv' instead of relying on the default value. The default value will change from 3 to 5 in version 0.22.\n",
      "  warnings.warn(CV_WARNING, FutureWarning)\n",
      "/Users/chesh1/anaconda3/lib/python3.7/site-packages/sklearn/model_selection/_split.py:2053: FutureWarning: You should specify a value for 'cv' instead of relying on the default value. The default value will change from 3 to 5 in version 0.22.\n",
      "  warnings.warn(CV_WARNING, FutureWarning)\n",
      "/Users/chesh1/anaconda3/lib/python3.7/site-packages/sklearn/model_selection/_split.py:2053: FutureWarning: You should specify a value for 'cv' instead of relying on the default value. The default value will change from 3 to 5 in version 0.22.\n",
      "  warnings.warn(CV_WARNING, FutureWarning)\n"
     ]
    }
   ],
   "source": [
    "weights_list = [{True: 1, False: 1}, {True: 2, False: 1}, {True: 3, False: 1}, \n",
    "               {True: 4, False: 1}, {True: 5, False: 1}, \n",
    "               {True: 6, False: 1}, {True: 7, False: 1}, {True: 8, False: 1}]\n",
    "# Putting together a list of dicts that I can then put into a dataframe\n",
    "weights_results = []\n",
    "# iterate through the class_weight options\n",
    "for i in weights_list:\n",
    "    lr = LogisticRegressionCV(penalty = 'l2', scoring = 'recall_weighted', solver = 'liblinear', \n",
    "                              class_weight = i)\n",
    "    lr.fit(train_ab[['age', 'bmi']], train_ab['diabetes'])\n",
    "    # Essentially using this to get the scores and confusion matrix for the cross-validated model\n",
    "    lr_pred = lr.predict(train_ab[['age', 'bmi']])\n",
    "    lr_conf = confusion_matrix(train_ab['diabetes'], lr_pred)\n",
    "    weights_results.append({'weight': i[True], \n",
    "                           'coefficients': lr.coef_, \n",
    "                           'recall': recall_score(train_ab['diabetes'], lr_pred), \n",
    "                           'false negatives': lr_conf[1][0], \n",
    "                           'false positives': lr_conf[0][1]})\n",
    "results_df = pd.DataFrame(weights_results)"
   ]
  },
  {
   "cell_type": "code",
   "execution_count": 111,
   "metadata": {},
   "outputs": [
    {
     "data": {
      "text/html": [
       "<div>\n",
       "<style scoped>\n",
       "    .dataframe tbody tr th:only-of-type {\n",
       "        vertical-align: middle;\n",
       "    }\n",
       "\n",
       "    .dataframe tbody tr th {\n",
       "        vertical-align: top;\n",
       "    }\n",
       "\n",
       "    .dataframe thead th {\n",
       "        text-align: right;\n",
       "    }\n",
       "</style>\n",
       "<table border=\"1\" class=\"dataframe\">\n",
       "  <thead>\n",
       "    <tr style=\"text-align: right;\">\n",
       "      <th></th>\n",
       "      <th>weight</th>\n",
       "      <th>coefficients</th>\n",
       "      <th>recall</th>\n",
       "      <th>false negatives</th>\n",
       "      <th>false positives</th>\n",
       "    </tr>\n",
       "  </thead>\n",
       "  <tbody>\n",
       "    <tr>\n",
       "      <th>0</th>\n",
       "      <td>1</td>\n",
       "      <td>[[0.03695880184799391, 0.0486686769749013]]</td>\n",
       "      <td>0.547794</td>\n",
       "      <td>123</td>\n",
       "      <td>75</td>\n",
       "    </tr>\n",
       "    <tr>\n",
       "      <th>1</th>\n",
       "      <td>2</td>\n",
       "      <td>[[0.05756389557202192, 0.08954170895572236]]</td>\n",
       "      <td>0.830882</td>\n",
       "      <td>46</td>\n",
       "      <td>173</td>\n",
       "    </tr>\n",
       "    <tr>\n",
       "      <th>2</th>\n",
       "      <td>3</td>\n",
       "      <td>[[0.059568192552723956, 0.08858485011423597]]</td>\n",
       "      <td>0.941176</td>\n",
       "      <td>16</td>\n",
       "      <td>225</td>\n",
       "    </tr>\n",
       "    <tr>\n",
       "      <th>3</th>\n",
       "      <td>4</td>\n",
       "      <td>[[0.06132124705303733, 0.08844616240157792]]</td>\n",
       "      <td>0.959559</td>\n",
       "      <td>11</td>\n",
       "      <td>267</td>\n",
       "    </tr>\n",
       "    <tr>\n",
       "      <th>4</th>\n",
       "      <td>5</td>\n",
       "      <td>[[0.062366302921968014, 0.08762751967234779]]</td>\n",
       "      <td>0.977941</td>\n",
       "      <td>6</td>\n",
       "      <td>290</td>\n",
       "    </tr>\n",
       "    <tr>\n",
       "      <th>5</th>\n",
       "      <td>6</td>\n",
       "      <td>[[0.06300577815174549, 0.08657797761040381]]</td>\n",
       "      <td>0.996324</td>\n",
       "      <td>1</td>\n",
       "      <td>315</td>\n",
       "    </tr>\n",
       "    <tr>\n",
       "      <th>6</th>\n",
       "      <td>7</td>\n",
       "      <td>[[0.06352415364010106, 0.08563950681976078]]</td>\n",
       "      <td>0.996324</td>\n",
       "      <td>1</td>\n",
       "      <td>328</td>\n",
       "    </tr>\n",
       "    <tr>\n",
       "      <th>7</th>\n",
       "      <td>8</td>\n",
       "      <td>[[0.06430213268458723, 0.08547591856246615]]</td>\n",
       "      <td>0.996324</td>\n",
       "      <td>1</td>\n",
       "      <td>333</td>\n",
       "    </tr>\n",
       "  </tbody>\n",
       "</table>\n",
       "</div>"
      ],
      "text/plain": [
       "   weight                                   coefficients    recall  \\\n",
       "0       1    [[0.03695880184799391, 0.0486686769749013]]  0.547794   \n",
       "1       2   [[0.05756389557202192, 0.08954170895572236]]  0.830882   \n",
       "2       3  [[0.059568192552723956, 0.08858485011423597]]  0.941176   \n",
       "3       4   [[0.06132124705303733, 0.08844616240157792]]  0.959559   \n",
       "4       5  [[0.062366302921968014, 0.08762751967234779]]  0.977941   \n",
       "5       6   [[0.06300577815174549, 0.08657797761040381]]  0.996324   \n",
       "6       7   [[0.06352415364010106, 0.08563950681976078]]  0.996324   \n",
       "7       8   [[0.06430213268458723, 0.08547591856246615]]  0.996324   \n",
       "\n",
       "   false negatives  false positives  \n",
       "0              123               75  \n",
       "1               46              173  \n",
       "2               16              225  \n",
       "3               11              267  \n",
       "4                6              290  \n",
       "5                1              315  \n",
       "6                1              328  \n",
       "7                1              333  "
      ]
     },
     "execution_count": 111,
     "metadata": {},
     "output_type": "execute_result"
    }
   ],
   "source": [
    "results_df"
   ]
  },
  {
   "cell_type": "code",
   "execution_count": 114,
   "metadata": {},
   "outputs": [
    {
     "name": "stderr",
     "output_type": "stream",
     "text": [
      "/Users/chesh1/anaconda3/lib/python3.7/site-packages/sklearn/model_selection/_split.py:2053: FutureWarning: You should specify a value for 'cv' instead of relying on the default value. The default value will change from 3 to 5 in version 0.22.\n",
      "  warnings.warn(CV_WARNING, FutureWarning)\n",
      "/Users/chesh1/anaconda3/lib/python3.7/site-packages/sklearn/model_selection/_split.py:2053: FutureWarning: You should specify a value for 'cv' instead of relying on the default value. The default value will change from 3 to 5 in version 0.22.\n",
      "  warnings.warn(CV_WARNING, FutureWarning)\n",
      "/Users/chesh1/anaconda3/lib/python3.7/site-packages/sklearn/model_selection/_split.py:2053: FutureWarning: You should specify a value for 'cv' instead of relying on the default value. The default value will change from 3 to 5 in version 0.22.\n",
      "  warnings.warn(CV_WARNING, FutureWarning)\n",
      "/Users/chesh1/anaconda3/lib/python3.7/site-packages/sklearn/model_selection/_split.py:2053: FutureWarning: You should specify a value for 'cv' instead of relying on the default value. The default value will change from 3 to 5 in version 0.22.\n",
      "  warnings.warn(CV_WARNING, FutureWarning)\n",
      "/Users/chesh1/anaconda3/lib/python3.7/site-packages/sklearn/model_selection/_split.py:2053: FutureWarning: You should specify a value for 'cv' instead of relying on the default value. The default value will change from 3 to 5 in version 0.22.\n",
      "  warnings.warn(CV_WARNING, FutureWarning)\n",
      "/Users/chesh1/anaconda3/lib/python3.7/site-packages/sklearn/model_selection/_split.py:2053: FutureWarning: You should specify a value for 'cv' instead of relying on the default value. The default value will change from 3 to 5 in version 0.22.\n",
      "  warnings.warn(CV_WARNING, FutureWarning)\n",
      "/Users/chesh1/anaconda3/lib/python3.7/site-packages/sklearn/model_selection/_split.py:2053: FutureWarning: You should specify a value for 'cv' instead of relying on the default value. The default value will change from 3 to 5 in version 0.22.\n",
      "  warnings.warn(CV_WARNING, FutureWarning)\n",
      "/Users/chesh1/anaconda3/lib/python3.7/site-packages/sklearn/model_selection/_split.py:2053: FutureWarning: You should specify a value for 'cv' instead of relying on the default value. The default value will change from 3 to 5 in version 0.22.\n",
      "  warnings.warn(CV_WARNING, FutureWarning)\n",
      "/Users/chesh1/anaconda3/lib/python3.7/site-packages/sklearn/model_selection/_split.py:2053: FutureWarning: You should specify a value for 'cv' instead of relying on the default value. The default value will change from 3 to 5 in version 0.22.\n",
      "  warnings.warn(CV_WARNING, FutureWarning)\n"
     ]
    }
   ],
   "source": [
    "weights_list = [{True: 2.1, False: 1}, {True: 2.2, False: 1}, {True: 2.3, False: 1}, \n",
    "               {True: 2.4, False: 1}, {True: 2.5, False: 1}, {True: 2.6, False: 1}, \n",
    "               {True: 2.7, False: 1}, {True: 2.8, False: 1}, {True: 2.9, False: 1}]\n",
    "# Putting together a list of dicts that I can then put into a dataframe\n",
    "weights_results = []\n",
    "# iterate through the class_weight options\n",
    "for i in weights_list:\n",
    "    lr = LogisticRegressionCV(penalty = 'l2', scoring = 'recall_weighted', solver = 'liblinear', \n",
    "                              class_weight = i)\n",
    "    lr.fit(train_ab[['age', 'bmi']], train_ab['diabetes'])\n",
    "    # Essentially using this to get the scores and confusion matrix for the cross-validated model\n",
    "    lr_pred = lr.predict(train_ab[['age', 'bmi']])\n",
    "    lr_conf = confusion_matrix(train_ab['diabetes'], lr_pred)\n",
    "    weights_results.append({'weight': i[True], \n",
    "                           'coefficients': lr.coef_, \n",
    "                           'recall': recall_score(train_ab['diabetes'], lr_pred), \n",
    "                           'false negatives': lr_conf[1][0], \n",
    "                           'false positives': lr_conf[0][1]})\n",
    "results_df = pd.DataFrame(weights_results)"
   ]
  },
  {
   "cell_type": "code",
   "execution_count": 115,
   "metadata": {},
   "outputs": [
    {
     "data": {
      "text/html": [
       "<div>\n",
       "<style scoped>\n",
       "    .dataframe tbody tr th:only-of-type {\n",
       "        vertical-align: middle;\n",
       "    }\n",
       "\n",
       "    .dataframe tbody tr th {\n",
       "        vertical-align: top;\n",
       "    }\n",
       "\n",
       "    .dataframe thead th {\n",
       "        text-align: right;\n",
       "    }\n",
       "</style>\n",
       "<table border=\"1\" class=\"dataframe\">\n",
       "  <thead>\n",
       "    <tr style=\"text-align: right;\">\n",
       "      <th></th>\n",
       "      <th>weight</th>\n",
       "      <th>coefficients</th>\n",
       "      <th>recall</th>\n",
       "      <th>false negatives</th>\n",
       "      <th>false positives</th>\n",
       "    </tr>\n",
       "  </thead>\n",
       "  <tbody>\n",
       "    <tr>\n",
       "      <th>0</th>\n",
       "      <td>2.1</td>\n",
       "      <td>[[0.05771430690364213, 0.08922862043143796]]</td>\n",
       "      <td>0.845588</td>\n",
       "      <td>42</td>\n",
       "      <td>179</td>\n",
       "    </tr>\n",
       "    <tr>\n",
       "      <th>1</th>\n",
       "      <td>2.2</td>\n",
       "      <td>[[0.05793394313241683, 0.08910492750176296]]</td>\n",
       "      <td>0.871324</td>\n",
       "      <td>35</td>\n",
       "      <td>185</td>\n",
       "    </tr>\n",
       "    <tr>\n",
       "      <th>2</th>\n",
       "      <td>2.3</td>\n",
       "      <td>[[0.058213971725538105, 0.08914268481399336]]</td>\n",
       "      <td>0.893382</td>\n",
       "      <td>29</td>\n",
       "      <td>189</td>\n",
       "    </tr>\n",
       "    <tr>\n",
       "      <th>3</th>\n",
       "      <td>2.4</td>\n",
       "      <td>[[0.058601174501105864, 0.0894424318101029]]</td>\n",
       "      <td>0.893382</td>\n",
       "      <td>29</td>\n",
       "      <td>194</td>\n",
       "    </tr>\n",
       "    <tr>\n",
       "      <th>4</th>\n",
       "      <td>2.5</td>\n",
       "      <td>[[0.05855912094327467, 0.08880114107726125]]</td>\n",
       "      <td>0.911765</td>\n",
       "      <td>24</td>\n",
       "      <td>199</td>\n",
       "    </tr>\n",
       "    <tr>\n",
       "      <th>5</th>\n",
       "      <td>2.6</td>\n",
       "      <td>[[0.05853453352910391, 0.08822991914652291]]</td>\n",
       "      <td>0.922794</td>\n",
       "      <td>21</td>\n",
       "      <td>207</td>\n",
       "    </tr>\n",
       "    <tr>\n",
       "      <th>6</th>\n",
       "      <td>2.7</td>\n",
       "      <td>[[0.05898878474861522, 0.0887251571020589]]</td>\n",
       "      <td>0.926471</td>\n",
       "      <td>20</td>\n",
       "      <td>211</td>\n",
       "    </tr>\n",
       "    <tr>\n",
       "      <th>7</th>\n",
       "      <td>2.8</td>\n",
       "      <td>[[0.05919241311218243, 0.08868672083710233]]</td>\n",
       "      <td>0.930147</td>\n",
       "      <td>19</td>\n",
       "      <td>217</td>\n",
       "    </tr>\n",
       "    <tr>\n",
       "      <th>8</th>\n",
       "      <td>2.9</td>\n",
       "      <td>[[0.059689866402832026, 0.08929930256347184]]</td>\n",
       "      <td>0.937500</td>\n",
       "      <td>17</td>\n",
       "      <td>219</td>\n",
       "    </tr>\n",
       "  </tbody>\n",
       "</table>\n",
       "</div>"
      ],
      "text/plain": [
       "   weight                                   coefficients    recall  \\\n",
       "0     2.1   [[0.05771430690364213, 0.08922862043143796]]  0.845588   \n",
       "1     2.2   [[0.05793394313241683, 0.08910492750176296]]  0.871324   \n",
       "2     2.3  [[0.058213971725538105, 0.08914268481399336]]  0.893382   \n",
       "3     2.4   [[0.058601174501105864, 0.0894424318101029]]  0.893382   \n",
       "4     2.5   [[0.05855912094327467, 0.08880114107726125]]  0.911765   \n",
       "5     2.6   [[0.05853453352910391, 0.08822991914652291]]  0.922794   \n",
       "6     2.7    [[0.05898878474861522, 0.0887251571020589]]  0.926471   \n",
       "7     2.8   [[0.05919241311218243, 0.08868672083710233]]  0.930147   \n",
       "8     2.9  [[0.059689866402832026, 0.08929930256347184]]  0.937500   \n",
       "\n",
       "   false negatives  false positives  \n",
       "0               42              179  \n",
       "1               35              185  \n",
       "2               29              189  \n",
       "3               29              194  \n",
       "4               24              199  \n",
       "5               21              207  \n",
       "6               20              211  \n",
       "7               19              217  \n",
       "8               17              219  "
      ]
     },
     "execution_count": 115,
     "metadata": {},
     "output_type": "execute_result"
    }
   ],
   "source": [
    "results_df"
   ]
  },
  {
   "cell_type": "markdown",
   "metadata": {},
   "source": [
    "### Final model parameters found; now to generate using the whole Pima dataset\n",
    "Initially, these weight tests were run using only recall, which resulted in an understandably strong bias towards false positives. Using weighted recall, a more reasonable false positive to false negative ratio could be found without tuning the class weights down to past the tenths.\n",
    "\n",
    "Will be using LogisticRegression with penalty = 'l2', C = 0.1, class_weight = {True: 2.6, False: 1}, solver = 'liblinear' for all four models.\n",
    "\n",
    "## Generating final models\n",
    "### Age and bmi only model"
   ]
  },
  {
   "cell_type": "code",
   "execution_count": 129,
   "metadata": {},
   "outputs": [
    {
     "data": {
      "text/plain": [
       "array([[0.05273564, 0.08703538]])"
      ]
     },
     "execution_count": 129,
     "metadata": {},
     "output_type": "execute_result"
    }
   ],
   "source": [
    "import pickle\n",
    "\n",
    "model_ab = LogisticRegression(penalty = 'l2', C = 1.0, class_weight = {True: 2.6, False: 1}, \n",
    "                              solver = 'liblinear')\n",
    "ab_data = pima_data[['age', 'bmi', 'diabetes']].dropna()\n",
    "model_ab.fit(ab_data[['age', 'bmi']], ab_data['diabetes'])\n",
    "with open('ab_logreg.pkl', 'wb') as fp:\n",
    "    pickle.dump(model_ab, fp)\n",
    "model_ab.coef_"
   ]
  },
  {
   "cell_type": "code",
   "execution_count": 117,
   "metadata": {},
   "outputs": [
    {
     "data": {
      "text/plain": [
       "array([[0.05391884, 0.08675281, 0.001567  ]])"
      ]
     },
     "execution_count": 117,
     "metadata": {},
     "output_type": "execute_result"
    }
   ],
   "source": [
    "model_abd = LogisticRegression(penalty = 'l2', C = 1.0, class_weight = {True: 2.6, False: 1}, \n",
    "                              solver = 'liblinear')\n",
    "abd_data = pima_data[['age', 'bmi', 'diabp', 'diabetes']].dropna()\n",
    "model_abd.fit(abd_data[['age', 'bmi', 'diabp']], abd_data['diabetes'])\n",
    "with open('abd_logreg.pkl', 'wb') as fp:\n",
    "    pickle.dump(model_abd, fp)\n",
    "model_abd.coef_"
   ]
  },
  {
   "cell_type": "code",
   "execution_count": 118,
   "metadata": {},
   "outputs": [
    {
     "data": {
      "text/plain": [
       "array([[0.04082995, 0.08846132, 0.07420784]])"
      ]
     },
     "execution_count": 118,
     "metadata": {},
     "output_type": "execute_result"
    }
   ],
   "source": [
    "model_abp = LogisticRegression(penalty = 'l2', C = 1.0, class_weight = {True: 2.6, False: 1}, \n",
    "                              solver = 'liblinear')\n",
    "abp_data = pima_data[['age', 'bmi', 'pregnancies', 'diabetes']].dropna()\n",
    "model_abp.fit(abp_data[['age', 'bmi', 'pregnancies']], abp_data['diabetes'])\n",
    "with open('abp_logreg.pkl', 'wb') as fp:\n",
    "    pickle.dump(model_abp, fp)\n",
    "model_abp.coef_"
   ]
  },
  {
   "cell_type": "code",
   "execution_count": 119,
   "metadata": {},
   "outputs": [
    {
     "data": {
      "text/plain": [
       "array([[0.04334931, 0.08927498, 0.00190589, 0.06907516]])"
      ]
     },
     "execution_count": 119,
     "metadata": {},
     "output_type": "execute_result"
    }
   ],
   "source": [
    "model_abdp = LogisticRegression(penalty = 'l2', C = 1.0, class_weight = {True: 2.6, False: 1}, \n",
    "                              solver = 'liblinear')\n",
    "abdp_data = pima_data[['age', 'bmi', 'diabp', 'pregnancies', 'diabetes']].dropna()\n",
    "model_abdp.fit(abdp_data[['age', 'bmi', 'diabp', 'pregnancies']], abdp_data['diabetes'])\n",
    "with open('abdp_logreg.pkl', 'wb') as fp:\n",
    "    pickle.dump(model_abdp, fp)\n",
    "model_abdp.coef_"
   ]
  },
  {
   "cell_type": "markdown",
   "metadata": {},
   "source": [
    "# Results\n",
    "How do these models fare against the Framingham Heart Study participants? In the pima-fram-lab-notebook.ipynb, the model trained on only the Pima data did OK on the Framingham Heart Study data."
   ]
  },
  {
   "cell_type": "code",
   "execution_count": 120,
   "metadata": {},
   "outputs": [],
   "source": [
    "query = \"\"\"SELECT * FROM fram\"\"\"\n",
    "with open('tempfile.csv', 'wb') as tmpfile:\n",
    "    copy_sql = \"COPY ({query}) TO STDOUT WITH CSV {head}\".format(\n",
    "       query=query, head=\"HEADER\"\n",
    "    )\n",
    "    cursor = connection.cursor()\n",
    "    cursor.copy_expert(copy_sql, tmpfile)\n",
    "    tmpfile.seek(0)\n",
    "\n",
    "    fram_data = pd.read_csv('tempfile.csv')\n",
    "# Calling all people with diabetes OR prediabetes as diabetic\n",
    "diabetes_series = fram_data['glucose'] >=140\n",
    "diabetes_series = diabetes_series | fram_data['diabetes'] == 1\n",
    "fram_data['diabetes'] = diabetes_series"
   ]
  },
  {
   "cell_type": "code",
   "execution_count": 121,
   "metadata": {},
   "outputs": [
    {
     "data": {
      "text/html": [
       "<div>\n",
       "<style scoped>\n",
       "    .dataframe tbody tr th:only-of-type {\n",
       "        vertical-align: middle;\n",
       "    }\n",
       "\n",
       "    .dataframe tbody tr th {\n",
       "        vertical-align: top;\n",
       "    }\n",
       "\n",
       "    .dataframe thead th {\n",
       "        text-align: right;\n",
       "    }\n",
       "</style>\n",
       "<table border=\"1\" class=\"dataframe\">\n",
       "  <thead>\n",
       "    <tr style=\"text-align: right;\">\n",
       "      <th></th>\n",
       "      <th>male</th>\n",
       "      <th>age</th>\n",
       "      <th>education</th>\n",
       "      <th>currentsmoker</th>\n",
       "      <th>cigsperday</th>\n",
       "      <th>bpmeds</th>\n",
       "      <th>prevalentstroke</th>\n",
       "      <th>prevalenthyp</th>\n",
       "      <th>diabetes</th>\n",
       "      <th>totchol</th>\n",
       "      <th>sysbp</th>\n",
       "      <th>diabp</th>\n",
       "      <th>bmi</th>\n",
       "      <th>heartrate</th>\n",
       "      <th>glucose</th>\n",
       "      <th>tenyearchd</th>\n",
       "    </tr>\n",
       "  </thead>\n",
       "  <tbody>\n",
       "    <tr>\n",
       "      <th>0</th>\n",
       "      <td>t</td>\n",
       "      <td>39</td>\n",
       "      <td>4.0</td>\n",
       "      <td>f</td>\n",
       "      <td>0.0</td>\n",
       "      <td>0.0</td>\n",
       "      <td>0</td>\n",
       "      <td>0</td>\n",
       "      <td>False</td>\n",
       "      <td>195.0</td>\n",
       "      <td>106.0</td>\n",
       "      <td>70.0</td>\n",
       "      <td>26.97</td>\n",
       "      <td>80.0</td>\n",
       "      <td>77.0</td>\n",
       "      <td>f</td>\n",
       "    </tr>\n",
       "    <tr>\n",
       "      <th>1</th>\n",
       "      <td>f</td>\n",
       "      <td>46</td>\n",
       "      <td>2.0</td>\n",
       "      <td>f</td>\n",
       "      <td>0.0</td>\n",
       "      <td>0.0</td>\n",
       "      <td>0</td>\n",
       "      <td>0</td>\n",
       "      <td>False</td>\n",
       "      <td>250.0</td>\n",
       "      <td>121.0</td>\n",
       "      <td>81.0</td>\n",
       "      <td>28.73</td>\n",
       "      <td>95.0</td>\n",
       "      <td>76.0</td>\n",
       "      <td>f</td>\n",
       "    </tr>\n",
       "    <tr>\n",
       "      <th>2</th>\n",
       "      <td>t</td>\n",
       "      <td>48</td>\n",
       "      <td>1.0</td>\n",
       "      <td>t</td>\n",
       "      <td>20.0</td>\n",
       "      <td>0.0</td>\n",
       "      <td>0</td>\n",
       "      <td>0</td>\n",
       "      <td>False</td>\n",
       "      <td>245.0</td>\n",
       "      <td>127.5</td>\n",
       "      <td>80.0</td>\n",
       "      <td>25.34</td>\n",
       "      <td>75.0</td>\n",
       "      <td>70.0</td>\n",
       "      <td>f</td>\n",
       "    </tr>\n",
       "    <tr>\n",
       "      <th>3</th>\n",
       "      <td>f</td>\n",
       "      <td>61</td>\n",
       "      <td>3.0</td>\n",
       "      <td>t</td>\n",
       "      <td>30.0</td>\n",
       "      <td>0.0</td>\n",
       "      <td>0</td>\n",
       "      <td>1</td>\n",
       "      <td>False</td>\n",
       "      <td>225.0</td>\n",
       "      <td>150.0</td>\n",
       "      <td>95.0</td>\n",
       "      <td>28.58</td>\n",
       "      <td>65.0</td>\n",
       "      <td>103.0</td>\n",
       "      <td>t</td>\n",
       "    </tr>\n",
       "    <tr>\n",
       "      <th>4</th>\n",
       "      <td>f</td>\n",
       "      <td>46</td>\n",
       "      <td>3.0</td>\n",
       "      <td>t</td>\n",
       "      <td>23.0</td>\n",
       "      <td>0.0</td>\n",
       "      <td>0</td>\n",
       "      <td>0</td>\n",
       "      <td>False</td>\n",
       "      <td>285.0</td>\n",
       "      <td>130.0</td>\n",
       "      <td>84.0</td>\n",
       "      <td>23.10</td>\n",
       "      <td>85.0</td>\n",
       "      <td>85.0</td>\n",
       "      <td>f</td>\n",
       "    </tr>\n",
       "  </tbody>\n",
       "</table>\n",
       "</div>"
      ],
      "text/plain": [
       "  male  age  education currentsmoker  cigsperday  bpmeds  prevalentstroke  \\\n",
       "0    t   39        4.0             f         0.0     0.0                0   \n",
       "1    f   46        2.0             f         0.0     0.0                0   \n",
       "2    t   48        1.0             t        20.0     0.0                0   \n",
       "3    f   61        3.0             t        30.0     0.0                0   \n",
       "4    f   46        3.0             t        23.0     0.0                0   \n",
       "\n",
       "   prevalenthyp  diabetes  totchol  sysbp  diabp    bmi  heartrate  glucose  \\\n",
       "0             0     False    195.0  106.0   70.0  26.97       80.0     77.0   \n",
       "1             0     False    250.0  121.0   81.0  28.73       95.0     76.0   \n",
       "2             0     False    245.0  127.5   80.0  25.34       75.0     70.0   \n",
       "3             1     False    225.0  150.0   95.0  28.58       65.0    103.0   \n",
       "4             0     False    285.0  130.0   84.0  23.10       85.0     85.0   \n",
       "\n",
       "  tenyearchd  \n",
       "0          f  \n",
       "1          f  \n",
       "2          f  \n",
       "3          t  \n",
       "4          f  "
      ]
     },
     "execution_count": 121,
     "metadata": {},
     "output_type": "execute_result"
    }
   ],
   "source": [
    "fram_data.head()"
   ]
  },
  {
   "cell_type": "code",
   "execution_count": 135,
   "metadata": {},
   "outputs": [
    {
     "data": {
      "text/plain": [
       "<matplotlib.axes._subplots.AxesSubplot at 0x7f969afb3518>"
      ]
     },
     "execution_count": 135,
     "metadata": {},
     "output_type": "execute_result"
    },
    {
     "data": {
      "image/png": "[encoded data removed]",
      "text/plain": [
       "<Figure size 432x288 with 2 Axes>"
      ]
     },
     "metadata": {
      "needs_background": "light"
     },
     "output_type": "display_data"
    }
   ],
   "source": [
    "test_data_ab = fram_data[['age', 'bmi', 'diabetes']].dropna()\n",
    "test_data_abd = fram_data[['age', 'bmi', 'diabp', 'diabetes']].dropna()\n",
    "pred_ab = model_ab.predict(test_data_ab[['age', 'bmi']])\n",
    "conf_mat_ab = confusion_matrix(test_data_ab['diabetes'], pred_ab)\n",
    "\n",
    "sbn.heatmap(conf_mat_ab, annot = True, fmt = '')"
   ]
  },
  {
   "cell_type": "markdown",
   "metadata": {},
   "source": [
    "## That's. . . not good."
   ]
  },
  {
   "cell_type": "code",
   "execution_count": 136,
   "metadata": {},
   "outputs": [
    {
     "data": {
      "text/plain": [
       "<matplotlib.axes._subplots.AxesSubplot at 0x7f969b0b7c50>"
      ]
     },
     "execution_count": 136,
     "metadata": {},
     "output_type": "execute_result"
    },
    {
     "data": {
      "image/png": "[encoded data removed]",
      "text/plain": [
       "<Figure size 432x288 with 2 Axes>"
      ]
     },
     "metadata": {
      "needs_background": "light"
     },
     "output_type": "display_data"
    }
   ],
   "source": [
    "model_ab_none = LogisticRegression(penalty = 'l2', C = 1.0, class_weight = None, \n",
    "                              solver = 'liblinear')\n",
    "ab_data = pima_data[['age', 'bmi', 'diabetes']].dropna()\n",
    "model_ab_none.fit(ab_data[['age', 'bmi']], ab_data['diabetes'])\n",
    "\n",
    "pred_ab_none = model_ab_none.predict(test_data_ab[['age', 'bmi']])\n",
    "conf_mat_ab_none = confusion_matrix(test_data_ab['diabetes'], pred_ab_none)\n",
    "sbn.heatmap(conf_mat_ab_none, annot = True, fmt = '')"
   ]
  },
  {
   "cell_type": "markdown",
   "metadata": {},
   "source": [
    "While the models were getting decent scores with weighted recall and balanced accuracy, not looking at the confusion matrix when assessing the models at the start of pima-fram-lab-notebook.ipynb was a bad choice. This model would likely perform better if it were trained on data from a subset of the population it would be used on, I'm not getting reasonable results when applying across populations.\n",
    "\n",
    "This means that while I have a model that can predict type II diabetes risk in an O'odham population, I don't have a model that can reasonably be rolled out to a wider population without having access to a dataset that's representative of the population at large."
   ]
  },
  {
   "cell_type": "markdown",
   "metadata": {},
   "source": [
    "# Conclusions and next steps\n",
    "I don't have a model that's ready to be rolled out beyond the initial training population (O'odham peoples, in this case). A similar approach of training the model directly on the Framingham dataset might work, but for now, it makes the most sense to table that and come back to it when I'm not trying to start project 4 immediately."
   ]
  },
  {
   "cell_type": "code",
   "execution_count": null,
   "metadata": {},
   "outputs": [],
   "source": []
  }
 ],
 "metadata": {
  "kernelspec": {
   "display_name": "Python 3",
   "language": "python",
   "name": "python3"
  },
  "language_info": {
   "codemirror_mode": {
    "name": "ipython",
    "version": 3
   },
   "file_extension": ".py",
   "mimetype": "text/x-python",
   "name": "python",
   "nbconvert_exporter": "python",
   "pygments_lexer": "ipython3",
   "version": "3.7.1"
  }
 },
 "nbformat": 4,
 "nbformat_minor": 4
}
